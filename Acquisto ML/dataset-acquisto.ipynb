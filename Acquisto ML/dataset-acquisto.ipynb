{
 "cells": [
  {
   "cell_type": "code",
   "execution_count": 32,
   "metadata": {},
   "outputs": [],
   "source": [
    "import pandas as pd\n",
    "import numpy as np\n",
    "import matplotlib.pyplot as plt\n",
    "np.random.seed(4)"
   ]
  },
  {
   "attachments": {},
   "cell_type": "markdown",
   "metadata": {},
   "source": [
    "## Creazione Dataset"
   ]
  },
  {
   "cell_type": "code",
   "execution_count": 33,
   "metadata": {},
   "outputs": [],
   "source": [
    "Size=5000\n",
    "Df=pd.DataFrame()"
   ]
  },
  {
   "cell_type": "code",
   "execution_count": 34,
   "metadata": {},
   "outputs": [],
   "source": [
    "# Farmaci a Disposizione\n",
    "# Calcolata da (somma magazzino)-(quantita utilizzate)\n",
    "Df[\"Disponibilita\"]=np.random.randint(5001,size=Size)#in ml"
   ]
  },
  {
   "cell_type": "code",
   "execution_count": 35,
   "metadata": {},
   "outputs": [],
   "source": [
    "# Farmaco da usare nella prossima seduta\n",
    "# Calcolata sommando la qt di farmaco da utilizzare nelle prossime sedute\n",
    "Df[\"Necessari\"]=np.random.randint(1001,size=Size)#in ml"
   ]
  },
  {
   "cell_type": "code",
   "execution_count": 36,
   "metadata": {},
   "outputs": [],
   "source": [
    "# Scadenza lotto\n",
    "# Scadenza ottenuta da server\n",
    "Df[\"Scadenza\"]=np.random.randint(21,size=Size)#in gg"
   ]
  },
  {
   "cell_type": "code",
   "execution_count": 37,
   "metadata": {},
   "outputs": [],
   "source": [
    "# Dimensione flacone\n",
    "# Dimensione ottenuta da server\n",
    "Df[\"Dimensione\"]=np.random.choice([100,250,500,750,1000],size=Size)#in ml"
   ]
  },
  {
   "cell_type": "code",
   "execution_count": 38,
   "metadata": {},
   "outputs": [],
   "source": [
    "# Farmaci Utilizzati\n",
    "# Qt di farmaco utilizzata dallo scorso acquisto \n",
    "Df[\"Utilizzati\"]=np.random.randint(1001,size=Size)#in ml"
   ]
  },
  {
   "cell_type": "code",
   "execution_count": 39,
   "metadata": {},
   "outputs": [
    {
     "name": "stdout",
     "output_type": "stream",
     "text": [
      "(5000, 5)\n"
     ]
    }
   ],
   "source": [
    "print(Df.shape)"
   ]
  },
  {
   "cell_type": "code",
   "execution_count": 62,
   "metadata": {},
   "outputs": [
    {
     "name": "stdout",
     "output_type": "stream",
     "text": [
      "(5000, 6)\n"
     ]
    },
    {
     "data": {
      "text/html": [
       "<div>\n",
       "<style scoped>\n",
       "    .dataframe tbody tr th:only-of-type {\n",
       "        vertical-align: middle;\n",
       "    }\n",
       "\n",
       "    .dataframe tbody tr th {\n",
       "        vertical-align: top;\n",
       "    }\n",
       "\n",
       "    .dataframe thead th {\n",
       "        text-align: right;\n",
       "    }\n",
       "</style>\n",
       "<table border=\"1\" class=\"dataframe\">\n",
       "  <thead>\n",
       "    <tr style=\"text-align: right;\">\n",
       "      <th></th>\n",
       "      <th>Disponibilita</th>\n",
       "      <th>Necessari</th>\n",
       "      <th>Scadenza</th>\n",
       "      <th>Dimensione</th>\n",
       "      <th>Utilizzati</th>\n",
       "      <th>Y</th>\n",
       "    </tr>\n",
       "  </thead>\n",
       "  <tbody>\n",
       "    <tr>\n",
       "      <th>0</th>\n",
       "      <td>1146</td>\n",
       "      <td>652</td>\n",
       "      <td>11</td>\n",
       "      <td>100</td>\n",
       "      <td>765</td>\n",
       "      <td>72</td>\n",
       "    </tr>\n",
       "    <tr>\n",
       "      <th>1</th>\n",
       "      <td>174</td>\n",
       "      <td>207</td>\n",
       "      <td>2</td>\n",
       "      <td>1000</td>\n",
       "      <td>668</td>\n",
       "      <td>1</td>\n",
       "    </tr>\n",
       "    <tr>\n",
       "      <th>2</th>\n",
       "      <td>2487</td>\n",
       "      <td>228</td>\n",
       "      <td>7</td>\n",
       "      <td>1000</td>\n",
       "      <td>750</td>\n",
       "      <td>2</td>\n",
       "    </tr>\n",
       "    <tr>\n",
       "      <th>3</th>\n",
       "      <td>709</td>\n",
       "      <td>377</td>\n",
       "      <td>18</td>\n",
       "      <td>500</td>\n",
       "      <td>408</td>\n",
       "      <td>13</td>\n",
       "    </tr>\n",
       "    <tr>\n",
       "      <th>4</th>\n",
       "      <td>3671</td>\n",
       "      <td>257</td>\n",
       "      <td>13</td>\n",
       "      <td>100</td>\n",
       "      <td>931</td>\n",
       "      <td>78</td>\n",
       "    </tr>\n",
       "    <tr>\n",
       "      <th>5</th>\n",
       "      <td>456</td>\n",
       "      <td>187</td>\n",
       "      <td>4</td>\n",
       "      <td>250</td>\n",
       "      <td>925</td>\n",
       "      <td>10</td>\n",
       "    </tr>\n",
       "    <tr>\n",
       "      <th>6</th>\n",
       "      <td>4489</td>\n",
       "      <td>984</td>\n",
       "      <td>1</td>\n",
       "      <td>750</td>\n",
       "      <td>738</td>\n",
       "      <td>0</td>\n",
       "    </tr>\n",
       "    <tr>\n",
       "      <th>7</th>\n",
       "      <td>1082</td>\n",
       "      <td>384</td>\n",
       "      <td>11</td>\n",
       "      <td>1000</td>\n",
       "      <td>784</td>\n",
       "      <td>7</td>\n",
       "    </tr>\n",
       "    <tr>\n",
       "      <th>8</th>\n",
       "      <td>3678</td>\n",
       "      <td>481</td>\n",
       "      <td>7</td>\n",
       "      <td>250</td>\n",
       "      <td>757</td>\n",
       "      <td>5</td>\n",
       "    </tr>\n",
       "    <tr>\n",
       "      <th>9</th>\n",
       "      <td>2871</td>\n",
       "      <td>531</td>\n",
       "      <td>16</td>\n",
       "      <td>500</td>\n",
       "      <td>980</td>\n",
       "      <td>25</td>\n",
       "    </tr>\n",
       "  </tbody>\n",
       "</table>\n",
       "</div>"
      ],
      "text/plain": [
       "   Disponibilita  Necessari  Scadenza  Dimensione  Utilizzati   Y\n",
       "0           1146        652        11         100         765  72\n",
       "1            174        207         2        1000         668   1\n",
       "2           2487        228         7        1000         750   2\n",
       "3            709        377        18         500         408  13\n",
       "4           3671        257        13         100         931  78\n",
       "5            456        187         4         250         925  10\n",
       "6           4489        984         1         750         738   0\n",
       "7           1082        384        11        1000         784   7\n",
       "8           3678        481         7         250         757   5\n",
       "9           2871        531        16         500         980  25"
      ]
     },
     "execution_count": 62,
     "metadata": {},
     "output_type": "execute_result"
    }
   ],
   "source": [
    "Df[\"Y\"]=(Df[\"Utilizzati\"]*(Df[\"Scadenza\"]-1)+Df[\"Necessari\"]-Df[\"Disponibilita\"])/Df[\"Dimensione\"]\n",
    "# Parse Int\n",
    "Df[\"Y\"]=Df[\"Y\"].round(0).astype(int).clip(0)\n",
    "\n",
    "print(Df.shape)\n",
    "Df.head(10)"
   ]
  },
  {
   "cell_type": "code",
   "execution_count": 64,
   "metadata": {},
   "outputs": [],
   "source": [
    "Df.to_csv(\"dataset-acquisto.csv\",index=False)"
   ]
  }
 ],
 "metadata": {
  "kernelspec": {
   "display_name": "Python 3",
   "language": "python",
   "name": "python3"
  },
  "language_info": {
   "codemirror_mode": {
    "name": "ipython",
    "version": 3
   },
   "file_extension": ".py",
   "mimetype": "text/x-python",
   "name": "python",
   "nbconvert_exporter": "python",
   "pygments_lexer": "ipython3",
   "version": "3.8.2"
  },
  "orig_nbformat": 4,
  "vscode": {
   "interpreter": {
    "hash": "52634da84371cba311ea128a5ea7cdc41ff074b781779e754b270ff9f8153cee"
   }
  }
 },
 "nbformat": 4,
 "nbformat_minor": 2
}
